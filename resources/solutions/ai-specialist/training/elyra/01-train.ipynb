{
 "cells": [
  {
   "cell_type": "markdown",
   "metadata": {},
   "source": [
    "## Step 4: Configure Hyperparameters\n",
    "Set up GPU/CPU detection (code automatically detects and use GPU if available)."
   ]
  },
  {
   "cell_type": "code",
   "execution_count": null,
   "metadata": {},
   "outputs": [],
   "source": [
    "device = torch.device(\"cuda:0\" if torch.cuda.is_available() else \"cpu\")\n",
    "print(f\"Using device: {device} ({'GPU' if device.type == 'cuda' else 'CPU'})\")"
   ]
  },
  {
   "cell_type": "markdown",
   "metadata": {},
   "source": [
    "Define all training parameters in a single configuration dictionary."
   ]
  },
  {
   "cell_type": "code",
   "execution_count": null,
   "metadata": {},
   "outputs": [],
   "source": [
    "\n",
    "CONFIG = {\n",
    "    'name': 'yolo_hardhat',\n",
    "    'model': 'yolo11m.pt',  # Model size options: n, s, m, l, x\n",
    "    'data': dataset.location + \"/data.yaml\",\n",
    "    'epochs': 50,\n",
    "    'batch': 16 ,  # Adjust batch size based on device\n",
    "    'imgsz': 640,\n",
    "    'patience': 15,\n",
    "    'device': device,\n",
    "    \n",
    "    # Optimizer settings\n",
    "    'optimizer': 'SGD',\n",
    "    'lr0': 0.001,\n",
    "    'lrf': 0.005,\n",
    "    'momentum': 0.9,\n",
    "    'weight_decay': 0.0005,\n",
    "    'warmup_epochs': 3,\n",
    "    'warmup_bias_lr': 0.01,\n",
    "    'warmup_momentum': 0.8,\n",
    "    'amp': False,\n",
    "    \n",
    "    # Data augmentation settings\n",
    "    'augment': True,\n",
    "    'hsv_h': 0.015,  # HSV-Hue augmentation\n",
    "    'hsv_s': 0.7,    # HSV-Saturation augmentation\n",
    "    'hsv_v': 0.4,    # HSV-Value augmentation\n",
    "    'degrees': 10,    # Image rotation (+/- deg)\n",
    "    'translate': 0.1, # Image translation\n",
    "    'scale': 0.3,    # Image scale\n",
    "    'shear': 0.0,    # Image shear\n",
    "    'perspective': 0.0,  # Image perspective\n",
    "    'flipud': 0.1,   # Flip up-down\n",
    "    'fliplr': 0.1,   # Flip left-right\n",
    "    'mosaic': 1.0,   # Mosaic augmentation\n",
    "    'mixup': 0.0,    # Mixup augmentation\n",
    "}\n",
    "\n",
    "# Configure PyTorch for GPU memory allocation\n",
    "os.environ[\"PYTORCH_CUDA_ALLOC_CONF\"] = \"expandable_segments:True\""
   ]
  },
  {
   "cell_type": "markdown",
   "metadata": {},
   "source": [
    "## Step 5: Load Model\n",
    "Initialize the YOLO model."
   ]
  },
  {
   "cell_type": "code",
   "execution_count": null,
   "metadata": {},
   "outputs": [],
   "source": [
    "model = YOLO(CONFIG['model'])"
   ]
  },
  {
   "cell_type": "markdown",
   "metadata": {},
   "source": [
    "## Step 6: Start Training\n",
    "\n",
    "Begin the training process. By default, the `train` method handles both \"training\" and \"validation\" sets. "
   ]
  },
  {
   "cell_type": "code",
   "execution_count": null,
   "metadata": {},
   "outputs": [],
   "source": [
    "results_train = model.train(\n",
    "    name=CONFIG['name'],\n",
    "    data=CONFIG['data'],\n",
    "    epochs=CONFIG['epochs'],\n",
    "    batch=CONFIG['batch'],\n",
    "    imgsz=CONFIG['imgsz'],\n",
    "    patience=CONFIG['patience'],\n",
    "    device=CONFIG['device'],\n",
    "    verbose=True,\n",
    "    \n",
    "    # Optimizer parameters\n",
    "    optimizer=CONFIG['optimizer'],\n",
    "    lr0=CONFIG['lr0'],\n",
    "    lrf=CONFIG['lrf'],\n",
    "    momentum=CONFIG['momentum'],\n",
    "    weight_decay=CONFIG['weight_decay'],\n",
    "    warmup_epochs=CONFIG['warmup_epochs'],\n",
    "    warmup_bias_lr=CONFIG['warmup_bias_lr'],\n",
    "    warmup_momentum=CONFIG['warmup_momentum'],\n",
    "    amp=CONFIG['amp'],\n",
    "    \n",
    "    # Augmentation parameters\n",
    "    augment=CONFIG['augment'],\n",
    "    hsv_h=CONFIG['hsv_h'],\n",
    "    hsv_s=CONFIG['hsv_s'],\n",
    "    hsv_v=CONFIG['hsv_v'],\n",
    "    degrees=CONFIG['degrees'],\n",
    "    translate=CONFIG['translate'],\n",
    "    scale=CONFIG['scale'],\n",
    "    shear=CONFIG['shear'],\n",
    "    perspective=CONFIG['perspective'],\n",
    "    flipud=CONFIG['flipud'],\n",
    "    fliplr=CONFIG['fliplr'],\n",
    "    mosaic=CONFIG['mosaic'],\n",
    "    mixup=CONFIG['mixup'],\n",
    ")"
   ]
  },
  {
   "cell_type": "markdown",
   "metadata": {},
   "source": [
    "## Step 7: Evaluate Model\n",
    "\n",
    " Evaluate the model on the test set."
   ]
  },
  {
   "cell_type": "code",
   "execution_count": null,
   "metadata": {},
   "outputs": [],
   "source": [
    "results_test = model.val(data=CONFIG['data'], split='test', device=CONFIG['device'], imgsz=CONFIG['imgsz'])\n",
    "\n",
    "#print(\"Test Results:\", results_test)"
   ]
  }
 ],
 "metadata": {
  "kernelspec": {
   "display_name": "Python 3",
   "language": "python",
   "name": "python3"
  },
  "language_info": {
   "codemirror_mode": {
    "name": "ipython",
    "version": 3
   },
   "file_extension": ".py",
   "mimetype": "text/x-python",
   "name": "python",
   "nbconvert_exporter": "python",
   "pygments_lexer": "ipython3",
   "version": "3.12.7"
  }
 },
 "nbformat": 4,
 "nbformat_minor": 4
}
